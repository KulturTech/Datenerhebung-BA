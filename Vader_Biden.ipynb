{
  "nbformat": 4,
  "nbformat_minor": 0,
  "metadata": {
    "colab": {
      "provenance": []
    },
    "kernelspec": {
      "name": "python3",
      "display_name": "Python 3"
    },
    "language_info": {
      "name": "python"
    }
  },
  "cells": [
    {
      "cell_type": "markdown",
      "source": [
        "##**VADER Analysis of Latest Tweets: Biden Administration (Sep 12-15 2023)**"
      ],
      "metadata": {
        "id": "SmU0wmaJ-WWs"
      }
    },
    {
      "cell_type": "markdown",
      "source": [
        "**This notebook applies Valence Aware Dictionary and Sentiment Reasoner or Vader to analyse sentiments in Republican politicians tweets regarding the Biden administration.**"
      ],
      "metadata": {
        "id": "sXmTa_ka94Wl"
      }
    },
    {
      "cell_type": "markdown",
      "source": [
        "This is what the sentiment scores mean:\n",
        "\n",
        "1.   compound: Overall sentiment of the text\n",
        "2.   pos: Positive sentiment\n",
        "3.   neu: Neutral sentiment\n",
        "4.   neg: Negative sentiment\n",
        "\n",
        "If compound score is > 0.05, the text is generally considered positive. If compound < -0.05, it's considered negative.\n",
        "\n",
        "\n",
        "\n"
      ],
      "metadata": {
        "id": "YBofHWI-L8Zf"
      }
    },
    {
      "cell_type": "markdown",
      "source": [
        "**This section analyses the sentiments in a pinned tweet made by Vivek Ramaswamy about Hunter Biden's indictment.**"
      ],
      "metadata": {
        "id": "LN1B6zWL-or2"
      }
    },
    {
      "cell_type": "code",
      "execution_count": null,
      "metadata": {
        "id": "UfAovjtk4kqs"
      },
      "outputs": [],
      "source": [
        "import nltk"
      ]
    },
    {
      "cell_type": "code",
      "source": [
        "nltk.download('vader_lexicon')"
      ],
      "metadata": {
        "colab": {
          "base_uri": "https://localhost:8080/"
        },
        "id": "LBB_7i5e4vbm",
        "outputId": "ea20061a-b3e2-4eaf-f2cb-81ca89f6668c"
      },
      "execution_count": null,
      "outputs": [
        {
          "output_type": "stream",
          "name": "stderr",
          "text": [
            "[nltk_data] Downloading package vader_lexicon to /root/nltk_data...\n"
          ]
        },
        {
          "output_type": "execute_result",
          "data": {
            "text/plain": [
              "True"
            ]
          },
          "metadata": {},
          "execution_count": 2
        }
      ]
    },
    {
      "cell_type": "code",
      "source": [
        "from nltk.sentiment.vader import SentimentIntensityAnalyzer"
      ],
      "metadata": {
        "id": "kjJliwgd42lL"
      },
      "execution_count": null,
      "outputs": []
    },
    {
      "cell_type": "code",
      "source": [
        "analyzer = SentimentIntensityAnalyzer()"
      ],
      "metadata": {
        "id": "AJ0AzV3349u5"
      },
      "execution_count": null,
      "outputs": []
    },
    {
      "cell_type": "code",
      "source": [
        "text = \"Today’s indictment of Hunter Biden is a smokescreen. Don’t fall for it. This is a fig leaf designed to deflect attention away from the real problem: the Biden family is selling out U.S. foreign policy for their own family’s private financial gain. That’s really what’s wrong, and we must hold politicians in both major political parties when they use our foreign policy to enrich their family members.\""
      ],
      "metadata": {
        "id": "HFAiW5Kd5Lne"
      },
      "execution_count": null,
      "outputs": []
    },
    {
      "cell_type": "code",
      "source": [
        "scores = analyzer.polarity_scores(text)"
      ],
      "metadata": {
        "id": "A6EkPYsn5U_w"
      },
      "execution_count": null,
      "outputs": []
    },
    {
      "cell_type": "code",
      "source": [
        "print(scores)"
      ],
      "metadata": {
        "colab": {
          "base_uri": "https://localhost:8080/"
        },
        "id": "hA_ZMKqn5Y7H",
        "outputId": "8c7cc60d-f0f5-4dc2-9057-e5699b6dbca9"
      },
      "execution_count": null,
      "outputs": [
        {
          "output_type": "stream",
          "name": "stdout",
          "text": [
            "{'neg': 0.083, 'neu': 0.834, 'pos': 0.083, 'compound': 0.0056}\n"
          ]
        }
      ]
    },
    {
      "cell_type": "code",
      "source": [
        "text = \"The impeachment inquiry initiated by the House against President Biden is a step in the right direction, but the public shouldn’t fall for the trick of diverting attention away from the true problem. It’s also no accident that today’s indictment comes at a moment when President Biden’s own popularity within the Democratic Party is cratering. I predict this is the first step for the Democrat Party managerial class to pressure Joe Biden out of the race. Biden will become a sacrificial pawn in service to the deep state that wants to keep power at all costs.\""
      ],
      "metadata": {
        "id": "Id0gmXbP5aVA"
      },
      "execution_count": null,
      "outputs": []
    },
    {
      "cell_type": "code",
      "source": [
        "scores = analyzer.polarity_scores(text)"
      ],
      "metadata": {
        "id": "SnLcY4Gv6GQR"
      },
      "execution_count": null,
      "outputs": []
    },
    {
      "cell_type": "code",
      "source": [
        "print(scores)"
      ],
      "metadata": {
        "colab": {
          "base_uri": "https://localhost:8080/"
        },
        "id": "SAYdW6uV6Lqr",
        "outputId": "6fc1095d-0fa2-4ccf-e221-b2b983fde11f"
      },
      "execution_count": null,
      "outputs": [
        {
          "output_type": "stream",
          "name": "stdout",
          "text": [
            "{'neg': 0.13, 'neu': 0.737, 'pos': 0.133, 'compound': 0.3291}\n"
          ]
        }
      ]
    },
    {
      "cell_type": "code",
      "source": [
        "def get_sentiment(text):\n",
        "  sentiment = analyzer.polarity_scores(\"The impeachment inquiry initiated by the House against President Biden is a step in the right direction, but the public shouldn’t fall for the trick of diverting attention away from the true problem. It’s also no accident that today’s indictment comes at a moment when President Biden’s own popularity within the Democratic Party is cratering. I predict this is the first step for the Democrat Party managerial class to pressure Joe Biden out of the race. Biden will become a sacrificial pawn in service to the deep state that wants to keep power at all costs.\")['compound']\n",
        "\n",
        "  if sentiment >=0.05:\n",
        "    return 'Positive'\n",
        "  elif sentiment <= -0.05:\n",
        "    return 'Negative'\n",
        "  else:\n",
        "    return 'Neutral'\n",
        "\n",
        "  text = \"The impeachment inquiry initiated by the House against President Biden is a step in the right direction, but the public shouldn’t fall for the trick of diverting attention away from the true problem. It’s also no accident that today’s indictment comes at a moment when President Biden’s own popularity within the Democratic Party is cratering. I predict this is the first step for the Democrat Party managerial class to pressure Joe Biden out of the race. Biden will become a sacrificial pawn in service to the deep state that wants to keep power at all costs.\""
      ],
      "metadata": {
        "id": "OhtwXaPi6NlF"
      },
      "execution_count": null,
      "outputs": []
    },
    {
      "cell_type": "code",
      "source": [
        "print(get_sentiment(text))"
      ],
      "metadata": {
        "colab": {
          "base_uri": "https://localhost:8080/"
        },
        "id": "wH6b7_R89JYT",
        "outputId": "e7b62983-2e5f-4176-c8da-81eafbf71d49"
      },
      "execution_count": null,
      "outputs": [
        {
          "output_type": "stream",
          "name": "stdout",
          "text": [
            "Positive\n"
          ]
        }
      ]
    },
    {
      "cell_type": "code",
      "source": [
        "text_1 = \"Myth: The President of the United States does not have powers to reorganize or shut down federal agencies. Truth: Key provisions of the Reorganization Act of 1977 (5 U.S.C. 901) still remain in effect: “The President shall from time to time examine the organization of all agencies and shall determine what changes in such organization are necessary to carry out any policy set forth” in this statute, including but not limited to: - To reduce expenditures and promote economy to the fullest extent consistent with the efficient operation of the Government- To reduce the number of agencies by consolidating those having similar functions under a single head, and to abolish such agencies or functions thereof as may not be necessary for the efficient conduct of the Government.The expired provisions of this statute are the ones that gave Congress the power to stop the President from acting—the expiry of which arguably strengthens the President’s ability to use executive power to drive these changes under limited circumstances specified in the statute.\"\n",
        "analyzer = SentimentIntensityAnalyzer()\n",
        "scores_1 = analyzer.polarity_scores(text_1)"
      ],
      "metadata": {
        "id": "SXkt8RxiOXKT"
      },
      "execution_count": 73,
      "outputs": []
    },
    {
      "cell_type": "code",
      "source": [
        "print(scores_1)"
      ],
      "metadata": {
        "colab": {
          "base_uri": "https://localhost:8080/"
        },
        "id": "T15BndBdO7B0",
        "outputId": "5e65f1dd-a455-4dc0-aa67-e9c4ffb1831f"
      },
      "execution_count": 74,
      "outputs": [
        {
          "output_type": "stream",
          "name": "stdout",
          "text": [
            "{'neg': 0.028, 'neu': 0.829, 'pos': 0.143, 'compound': 0.9609}\n"
          ]
        }
      ]
    },
    {
      "cell_type": "markdown",
      "source": [
        "**Now, we will look at Tulsi Gabbard's tweets regarding Biden.**"
      ],
      "metadata": {
        "id": "XQUXkMSk_ohJ"
      }
    },
    {
      "cell_type": "code",
      "source": [
        "from nltk.sentiment.vader import SentimentIntensityAnalyzer"
      ],
      "metadata": {
        "id": "OfckmqF2_xRu"
      },
      "execution_count": null,
      "outputs": []
    },
    {
      "cell_type": "code",
      "source": [
        "def get_sentiment(text):\n",
        "  analyzer = SentimentIntensityAnalyzer()\n",
        "  sentiment = analyzer.polarity_scores(text)['compound']\n",
        "\n",
        "  if sentiment >= 0.05:\n",
        "    return 'Positive'\n",
        "  elif sentiment <= -0.05:\n",
        "    return 'Negative'\n",
        "  else:\n",
        "    return 'Neutral'\n",
        "\n",
        "text_1 = \"Biden has done nothing but divide America and undermine our democracy since the day he took office. Yet on 9/11 he had the gall to lecture us about standing united and defending democracy. The hypocrisy is deafening.\"\n",
        "text_2 = \"Hearing Biden lecture us about OUR responsibility to defend democracy as he and his admin do everything they can to undermine it is insulting beyond words. From the politicized prosecution of Trump, altering DNC rules to ice out RFK Jr, directing FBI & Big Tech to censor dissenting voices, to labeling concerned parents as terrorists - do they think we're too stupid to notice their hypocrisy?\"\n",
        "text_3 = \"Why isn't Biden here in NYC at Ground Zero? Perhaps because he wants the American people to “move past” or forget about this attack, who carried it out & why. They’d rather us focus on new, bigger, more lucrative wars. But we are not sheep. We will #NeverForget.\""
      ],
      "metadata": {
        "id": "iccikKJr_4ku"
      },
      "execution_count": null,
      "outputs": []
    },
    {
      "cell_type": "code",
      "source": [
        "print(get_sentiment(text_1))"
      ],
      "metadata": {
        "colab": {
          "base_uri": "https://localhost:8080/"
        },
        "id": "p6h4EjeEAvyK",
        "outputId": "6ab948bd-0117-4345-8714-a829614d03d4"
      },
      "execution_count": null,
      "outputs": [
        {
          "output_type": "stream",
          "name": "stdout",
          "text": [
            "Negative\n"
          ]
        }
      ]
    },
    {
      "cell_type": "code",
      "source": [
        "print(get_sentiment(text_2))"
      ],
      "metadata": {
        "colab": {
          "base_uri": "https://localhost:8080/"
        },
        "id": "-iD4hRwRDZ1w",
        "outputId": "4da64ac1-f018-40d1-ead7-58ad396d468e"
      },
      "execution_count": null,
      "outputs": [
        {
          "output_type": "stream",
          "name": "stdout",
          "text": [
            "Negative\n"
          ]
        }
      ]
    },
    {
      "cell_type": "code",
      "source": [
        "print(get_sentiment(text_3))"
      ],
      "metadata": {
        "id": "VJ1nXDwiD_Fg",
        "outputId": "dfadc4c6-3aca-482e-dcea-065a746e1877",
        "colab": {
          "base_uri": "https://localhost:8080/"
        }
      },
      "execution_count": null,
      "outputs": [
        {
          "output_type": "stream",
          "name": "stdout",
          "text": [
            "Negative\n"
          ]
        }
      ]
    },
    {
      "cell_type": "code",
      "source": [
        "text_1 = \"Biden has done nothing but divide America and undermine our democracy since the day he took office. Yet on 9/11 he had the gall to lecture us about standing united and defending democracy. The hypocrisy is deafening.\"\n",
        "text_2 = \"Hearing Biden lecture us about OUR responsibility to defend democracy as he and his admin do everything they can to undermine it is insulting beyond words. From the politicized prosecution of Trump, altering DNC rules to ice out RFK Jr, directing FBI & Big Tech to censor dissenting voices, to labeling concerned parents as terrorists - do they think we're too stupid to notice their hypocrisy?\"\n",
        "text_3 = \"Why isn't Biden here in NYC at Ground Zero? Perhaps because he wants the American people to “move past” or forget about this attack, who carried it out & why. They’d rather us focus on new, bigger, more lucrative wars. But we are not sheep. We will #NeverForget.\"\n",
        "analyzer = SentimentIntensityAnalyzer()\n",
        "scores = analyzer.polarity_scores(text_1)"
      ],
      "metadata": {
        "id": "meuJb_SrKijL"
      },
      "execution_count": 60,
      "outputs": []
    },
    {
      "cell_type": "code",
      "source": [
        "print(scores)"
      ],
      "metadata": {
        "colab": {
          "base_uri": "https://localhost:8080/"
        },
        "id": "_JVfEEzBLFtx",
        "outputId": "4c4d8287-b0d3-4091-95dd-34feb7e94ba9"
      },
      "execution_count": 61,
      "outputs": [
        {
          "output_type": "stream",
          "name": "stdout",
          "text": [
            "{'neg': 0.129, 'neu': 0.785, 'pos': 0.085, 'compound': -0.2263}\n"
          ]
        }
      ]
    },
    {
      "cell_type": "code",
      "source": [
        "scores_2 = analyzer.polarity_scores(text_2)"
      ],
      "metadata": {
        "id": "xY-SaAdZLJ-9"
      },
      "execution_count": 62,
      "outputs": []
    },
    {
      "cell_type": "code",
      "source": [
        "print(scores_2)"
      ],
      "metadata": {
        "colab": {
          "base_uri": "https://localhost:8080/"
        },
        "id": "WnTrOKOTLRyp",
        "outputId": "fa54f551-2926-44a2-97d7-dc1c89664ddb"
      },
      "execution_count": 63,
      "outputs": [
        {
          "output_type": "stream",
          "name": "stdout",
          "text": [
            "{'neg': 0.248, 'neu': 0.752, 'pos': 0.0, 'compound': -0.959}\n"
          ]
        }
      ]
    },
    {
      "cell_type": "code",
      "source": [
        "scores_3 = analyzer.polarity_scores(text_3)"
      ],
      "metadata": {
        "id": "7S1JTXKXLXZX"
      },
      "execution_count": 64,
      "outputs": []
    },
    {
      "cell_type": "code",
      "source": [
        "print(scores_3)"
      ],
      "metadata": {
        "colab": {
          "base_uri": "https://localhost:8080/"
        },
        "id": "r7Ez5BdcLeLh",
        "outputId": "4ab2b1d3-a076-4703-c861-6e6caf28799c"
      },
      "execution_count": 65,
      "outputs": [
        {
          "output_type": "stream",
          "name": "stdout",
          "text": [
            "{'neg': 0.119, 'neu': 0.881, 'pos': 0.0, 'compound': -0.6045}\n"
          ]
        }
      ]
    },
    {
      "cell_type": "markdown",
      "source": [
        "The following tweets by Tulsi Gabbard are negative according to VADER Analysis:\n",
        "\n",
        "1.\"Biden has done nothing but divide America and undermine our democracy since the day he took office. Yet on 9/11 he had the gall to lecture us about \"standing united\" and \"defending democracy.\" The hypocrisy is deafening.\"\n",
        "2. \"Hearing Biden lecture us about OUR responsibility to defend democracy as he and his admin do everything they can to undermine it is insulting beyond words. From the politicized prosecution of Trump, altering DNC rules to ice out RFK Jr, directing FBI & Big Tech to censor dissenting voices, to labeling concerned parents as terrorists - do they think we're too stupid to notice their hypocrisy?\"\n",
        "\n"
      ],
      "metadata": {
        "id": "w-AlIaiICSp0"
      }
    },
    {
      "cell_type": "markdown",
      "source": [
        "**This section analyses tweets by Speaker Kevin McCarthy.**"
      ],
      "metadata": {
        "id": "_XaSSKxTLtcO"
      }
    },
    {
      "cell_type": "code",
      "source": [
        "text_1 = \"I am directing our House committees to open a formal impeachment inquiry into President Joe Biden. Over the past several months, House Republicans have uncovered serious and credible allegations into President Biden’s conduct—a culture of corruption.\"\n",
        "text_2 = \"It's a true act of desperation for the Biden White House to give the media marching orders.\"\n",
        "text_3 = \"There are serious and credible allegations into President Biden’s conduct—none of which would be known if not for current House investigations. We will continue to fight for the transparency and accountability the American people demand and deserve.\"\n",
        "analyzer = SentimentIntensityAnalyzer()\n",
        "scores = analyzer.polarity_scores(text_1)"
      ],
      "metadata": {
        "id": "2XvlJ2roDt-F"
      },
      "execution_count": 67,
      "outputs": []
    },
    {
      "cell_type": "code",
      "source": [
        "print(scores)"
      ],
      "metadata": {
        "colab": {
          "base_uri": "https://localhost:8080/"
        },
        "id": "NF6668jLNjy_",
        "outputId": "4a0648b7-acbf-429e-ed43-18f56c4ac148"
      },
      "execution_count": 68,
      "outputs": [
        {
          "output_type": "stream",
          "name": "stdout",
          "text": [
            "{'neg': 0.038, 'neu': 0.962, 'pos': 0.0, 'compound': -0.0772}\n"
          ]
        }
      ]
    },
    {
      "cell_type": "code",
      "source": [
        "scores_2 = analyzer.polarity_scores(text_2)"
      ],
      "metadata": {
        "id": "-JaH6cC1Nr-e"
      },
      "execution_count": 69,
      "outputs": []
    },
    {
      "cell_type": "code",
      "source": [
        "print(scores_2)"
      ],
      "metadata": {
        "colab": {
          "base_uri": "https://localhost:8080/"
        },
        "id": "ISmS8cYONxx5",
        "outputId": "834d91d1-311f-4b28-854f-299ec1458ad1"
      },
      "execution_count": 70,
      "outputs": [
        {
          "output_type": "stream",
          "name": "stdout",
          "text": [
            "{'neg': 0.152, 'neu': 0.707, 'pos': 0.141, 'compound': -0.0516}\n"
          ]
        }
      ]
    },
    {
      "cell_type": "code",
      "source": [
        "scores_3 = analyzer.polarity_scores(text_3)"
      ],
      "metadata": {
        "id": "v8GsQ4_VNzSS"
      },
      "execution_count": 71,
      "outputs": []
    },
    {
      "cell_type": "code",
      "source": [
        "print(scores_3)"
      ],
      "metadata": {
        "colab": {
          "base_uri": "https://localhost:8080/"
        },
        "id": "zIeu7CfdN6z0",
        "outputId": "d0271f59-ac60-45b0-8d9a-9d1a404f18f4"
      },
      "execution_count": 72,
      "outputs": [
        {
          "output_type": "stream",
          "name": "stdout",
          "text": [
            "{'neg': 0.137, 'neu': 0.863, 'pos': 0.0, 'compound': -0.5267}\n"
          ]
        }
      ]
    },
    {
      "cell_type": "code",
      "source": [
        "import pandas as pd"
      ],
      "metadata": {
        "id": "t7mKkGNyN9Ff"
      },
      "execution_count": 75,
      "outputs": []
    },
    {
      "cell_type": "code",
      "source": [
        "data = {'Vivek Ramaswamy': [0.0056, 0.3291, 0.9609],\n",
        "        'Tulsi Gabbard': [-0.2263, -0-959, -0.6045],\n",
        "        'Kevin McCarthy':[-0.0772, -0.056, -0.5267]}\n",
        "\n",
        "df=pd.DataFrame(data)"
      ],
      "metadata": {
        "id": "a3FzmmVMPC5L"
      },
      "execution_count": 76,
      "outputs": []
    },
    {
      "cell_type": "code",
      "source": [
        "print(df)"
      ],
      "metadata": {
        "colab": {
          "base_uri": "https://localhost:8080/"
        },
        "id": "3WG3F8PNQzJL",
        "outputId": "2dfcf0d2-1690-4e27-a5c5-bed278976f0b"
      },
      "execution_count": 77,
      "outputs": [
        {
          "output_type": "stream",
          "name": "stdout",
          "text": [
            "   Vivek Ramaswamy  Tulsi Gabbard  Kevin McCarthy\n",
            "0           0.0056        -0.2263         -0.0772\n",
            "1           0.3291      -959.0000         -0.0560\n",
            "2           0.9609        -0.6045         -0.5267\n"
          ]
        }
      ]
    },
    {
      "cell_type": "code",
      "source": [
        "pip install tabulate"
      ],
      "metadata": {
        "colab": {
          "base_uri": "https://localhost:8080/"
        },
        "id": "1ptnNwDcQ1JE",
        "outputId": "7f368b9b-a0f7-40f3-a7e4-4d721cb8ac45"
      },
      "execution_count": 78,
      "outputs": [
        {
          "output_type": "stream",
          "name": "stdout",
          "text": [
            "Requirement already satisfied: tabulate in /usr/local/lib/python3.10/dist-packages (0.9.0)\n"
          ]
        }
      ]
    },
    {
      "cell_type": "code",
      "source": [
        "from tabulate import tabulate"
      ],
      "metadata": {
        "id": "RZmA6umQQ6ex"
      },
      "execution_count": 79,
      "outputs": []
    },
    {
      "cell_type": "code",
      "source": [
        "print(tabulate(df, headers='keys', tablefmt='pretty', showindex=False))"
      ],
      "metadata": {
        "colab": {
          "base_uri": "https://localhost:8080/"
        },
        "id": "ctOtdyZaQ9nK",
        "outputId": "6b254d8e-bed1-48ab-e983-16a68ce342e7"
      },
      "execution_count": 80,
      "outputs": [
        {
          "output_type": "stream",
          "name": "stdout",
          "text": [
            "+-----------------+---------------+----------------+\n",
            "| Vivek Ramaswamy | Tulsi Gabbard | Kevin McCarthy |\n",
            "+-----------------+---------------+----------------+\n",
            "|     0.0056      |    -0.2263    |    -0.0772     |\n",
            "|     0.3291      |    -959.0     |     -0.056     |\n",
            "|     0.9609      |    -0.6045    |    -0.5267     |\n",
            "+-----------------+---------------+----------------+\n"
          ]
        }
      ]
    }
  ]
}